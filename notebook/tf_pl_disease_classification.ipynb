{
  "nbformat": 4,
  "nbformat_minor": 0,
  "metadata": {
    "colab": {
      "name": "tf_pl_disease_classification.ipynb",
      "version": "0.3.2",
      "provenance": [],
      "collapsed_sections": []
    },
    "kernelspec": {
      "name": "python3",
      "display_name": "Python 3"
    },
    "accelerator": "GPU"
  },
  "cells": [
    {
      "metadata": {
        "id": "2U1cuf_rAzuf",
        "colab_type": "text"
      },
      "cell_type": "markdown",
      "source": [
        "# Connect with Google Drive\n",
        "\n",
        "Thanks for google to provide google drive and more importantly Colab on which we can use GPU for model training/testing.\n",
        "\n",
        "We have placed all our data in google drive and easiest way to connect with google drive is to mount it with colab. This is hell of best feature that i ever seen. In this way a google drive simply becomes a simple hard drive and you can perform all operations on it like create new directory, list directories, save models etc. \n",
        "\n",
        "In below section we connect with google drive and mount it with our colab notebook."
      ]
    },
    {
      "metadata": {
        "id": "1zRFZTtd-Pfg",
        "colab_type": "code",
        "outputId": "a8bc588f-03ea-4b4a-b099-79e74f2c964f",
        "colab": {
          "base_uri": "https://localhost:8080/",
          "height": 54
        }
      },
      "cell_type": "code",
      "source": [
        "from google.colab import drive\n",
        "drive.mount('/content/gdrive')"
      ],
      "execution_count": 8,
      "outputs": [
        {
          "output_type": "stream",
          "text": [
            "Drive already mounted at /content/gdrive; to attempt to forcibly remount, call drive.mount(\"/content/gdrive\", force_remount=True).\n"
          ],
          "name": "stdout"
        }
      ]
    },
    {
      "metadata": {
        "id": "bxI5hKcsB1ze",
        "colab_type": "text"
      },
      "cell_type": "markdown",
      "source": [
        "# Tensor 2.0 Installation\n",
        "\n",
        "We first need to install tensorflow gpu alpha version so that we can develop our model on latest version. \n",
        "\n",
        "please note by defualt tensorflow 1.13 version is installed and you need to first run following code for installation of tensorflow 2.0. "
      ]
    },
    {
      "metadata": {
        "id": "wplW3tdwFOlV",
        "colab_type": "code",
        "outputId": "89ac6cf4-023a-49ac-de2d-cb42eec3c454",
        "colab": {
          "base_uri": "https://localhost:8080/",
          "height": 615
        }
      },
      "cell_type": "code",
      "source": [
        "!pip install tensorflow-gpu==2.0.0-alpha0"
      ],
      "execution_count": 2,
      "outputs": [
        {
          "output_type": "stream",
          "text": [
            "Collecting tensorflow-gpu==2.0.0-alpha0\n",
            "\u001b[?25l  Downloading https://files.pythonhosted.org/packages/1a/66/32cffad095253219d53f6b6c2a436637bbe45ac4e7be0244557210dc3918/tensorflow_gpu-2.0.0a0-cp36-cp36m-manylinux1_x86_64.whl (332.1MB)\n",
            "\u001b[K    100% |████████████████████████████████| 332.1MB 50kB/s \n",
            "\u001b[?25hRequirement already satisfied: absl-py>=0.7.0 in /usr/local/lib/python3.6/dist-packages (from tensorflow-gpu==2.0.0-alpha0) (0.7.1)\n",
            "Requirement already satisfied: grpcio>=1.8.6 in /usr/local/lib/python3.6/dist-packages (from tensorflow-gpu==2.0.0-alpha0) (1.15.0)\n",
            "Requirement already satisfied: numpy<2.0,>=1.14.5 in /usr/local/lib/python3.6/dist-packages (from tensorflow-gpu==2.0.0-alpha0) (1.16.2)\n",
            "Requirement already satisfied: astor>=0.6.0 in /usr/local/lib/python3.6/dist-packages (from tensorflow-gpu==2.0.0-alpha0) (0.7.1)\n",
            "Requirement already satisfied: wheel>=0.26 in /usr/local/lib/python3.6/dist-packages (from tensorflow-gpu==2.0.0-alpha0) (0.33.1)\n",
            "Requirement already satisfied: gast>=0.2.0 in /usr/local/lib/python3.6/dist-packages (from tensorflow-gpu==2.0.0-alpha0) (0.2.2)\n",
            "Requirement already satisfied: keras-preprocessing>=1.0.5 in /usr/local/lib/python3.6/dist-packages (from tensorflow-gpu==2.0.0-alpha0) (1.0.9)\n",
            "Collecting tf-estimator-nightly<1.14.0.dev2019030116,>=1.14.0.dev2019030115 (from tensorflow-gpu==2.0.0-alpha0)\n",
            "\u001b[?25l  Downloading https://files.pythonhosted.org/packages/13/82/f16063b4eed210dc2ab057930ac1da4fbe1e91b7b051a6c8370b401e6ae7/tf_estimator_nightly-1.14.0.dev2019030115-py2.py3-none-any.whl (411kB)\n",
            "\u001b[K    100% |████████████████████████████████| 419kB 9.7MB/s \n",
            "\u001b[?25hCollecting google-pasta>=0.1.2 (from tensorflow-gpu==2.0.0-alpha0)\n",
            "\u001b[?25l  Downloading https://files.pythonhosted.org/packages/64/bb/f1bbc131d6294baa6085a222d29abadd012696b73dcbf8cf1bf56b9f082a/google_pasta-0.1.5-py3-none-any.whl (51kB)\n",
            "\u001b[K    100% |████████████████████████████████| 61kB 26.0MB/s \n",
            "\u001b[?25hRequirement already satisfied: protobuf>=3.6.1 in /usr/local/lib/python3.6/dist-packages (from tensorflow-gpu==2.0.0-alpha0) (3.7.1)\n",
            "Requirement already satisfied: termcolor>=1.1.0 in /usr/local/lib/python3.6/dist-packages (from tensorflow-gpu==2.0.0-alpha0) (1.1.0)\n",
            "Collecting tb-nightly<1.14.0a20190302,>=1.14.0a20190301 (from tensorflow-gpu==2.0.0-alpha0)\n",
            "\u001b[?25l  Downloading https://files.pythonhosted.org/packages/a9/51/aa1d756644bf4624c03844115e4ac4058eff77acd786b26315f051a4b195/tb_nightly-1.14.0a20190301-py3-none-any.whl (3.0MB)\n",
            "\u001b[K    100% |████████████████████████████████| 3.0MB 7.5MB/s \n",
            "\u001b[?25hRequirement already satisfied: keras-applications>=1.0.6 in /usr/local/lib/python3.6/dist-packages (from tensorflow-gpu==2.0.0-alpha0) (1.0.7)\n",
            "Requirement already satisfied: six>=1.10.0 in /usr/local/lib/python3.6/dist-packages (from tensorflow-gpu==2.0.0-alpha0) (1.12.0)\n",
            "Requirement already satisfied: setuptools in /usr/local/lib/python3.6/dist-packages (from protobuf>=3.6.1->tensorflow-gpu==2.0.0-alpha0) (40.9.0)\n",
            "Requirement already satisfied: markdown>=2.6.8 in /usr/local/lib/python3.6/dist-packages (from tb-nightly<1.14.0a20190302,>=1.14.0a20190301->tensorflow-gpu==2.0.0-alpha0) (3.1)\n",
            "Requirement already satisfied: werkzeug>=0.11.15 in /usr/local/lib/python3.6/dist-packages (from tb-nightly<1.14.0a20190302,>=1.14.0a20190301->tensorflow-gpu==2.0.0-alpha0) (0.15.2)\n",
            "Requirement already satisfied: h5py in /usr/local/lib/python3.6/dist-packages (from keras-applications>=1.0.6->tensorflow-gpu==2.0.0-alpha0) (2.8.0)\n",
            "Installing collected packages: tf-estimator-nightly, google-pasta, tb-nightly, tensorflow-gpu\n",
            "Successfully installed google-pasta-0.1.5 tb-nightly-1.14.0a20190301 tensorflow-gpu-2.0.0a0 tf-estimator-nightly-1.14.0.dev2019030115\n"
          ],
          "name": "stdout"
        },
        {
          "output_type": "display_data",
          "data": {
            "application/vnd.colab-display-data+json": {
              "pip_warning": {
                "packages": [
                  "tensorflow",
                  "tensorflow_estimator"
                ]
              }
            }
          },
          "metadata": {
            "tags": []
          }
        }
      ]
    },
    {
      "metadata": {
        "id": "dH7PRNNaCvRG",
        "colab_type": "text"
      },
      "cell_type": "markdown",
      "source": [
        "# Import Libraires\n",
        "\n",
        "It better to import all required libraries early so that you know earlier that either a library is missing or not and also verify that correct version of the library is installed.\n",
        "\n",
        "In our work we need numpy, matplotlib, sklearn and tensorflow 2.0 library. we also printout the version of tensorflow so that we can be sure about version of tensorflow."
      ]
    },
    {
      "metadata": {
        "id": "qacMFu1tKfJV",
        "colab_type": "code",
        "colab": {
          "base_uri": "https://localhost:8080/",
          "height": 34
        },
        "outputId": "a158af0a-0eee-4810-fa50-97dd45daaa61"
      },
      "cell_type": "code",
      "source": [
        "from __future__ import absolute_import, division, print_function, unicode_literals;\n",
        "import tensorflow as tf\n",
        "import numpy as np;\n",
        "from matplotlib import pyplot as plt;\n",
        "import os;\n",
        "import pathlib;\n",
        "import random;\n",
        "from sklearn.metrics import classification_report, confusion_matrix;\n",
        "print(tf.__version__)"
      ],
      "execution_count": 21,
      "outputs": [
        {
          "output_type": "stream",
          "text": [
            "2.0.0-alpha0\n"
          ],
          "name": "stdout"
        }
      ]
    },
    {
      "metadata": {
        "id": "lQiOc46MDeRO",
        "colab_type": "text"
      },
      "cell_type": "markdown",
      "source": [
        "# Variables Assignment\n",
        "\n",
        "- We first need to create 2 variables one can hold the path of the data on google drive and other one can hold the location in which model will be saved.\n",
        "\n",
        "- We also defined some other variables image width and image height, in our work we use 160 x 160 image so both width and height is 160.\n",
        "\n",
        "- In our work we use batch size of training 64, for validation data 32 and for testing 1 (because each image will be tested only once)."
      ]
    },
    {
      "metadata": {
        "id": "Q_D5oNNOME9l",
        "colab_type": "code",
        "colab": {}
      },
      "cell_type": "code",
      "source": [
        "\n",
        "AUTOTUNE = tf.data.experimental.AUTOTUNE;\n",
        "\n",
        "model_loc = '/content/gdrive/My Drive/Refined_Data/saved_model';\n",
        "plant_data = '/content/gdrive/My Drive/Refined_Data/plant_data';\n",
        "\n",
        "img_width = 160;\n",
        "img_height = 160;\n",
        "test_batch_size = 1;\n",
        "train_batch_size = 64;\n",
        "valid_batch_size = 32;\n"
      ],
      "execution_count": 0,
      "outputs": []
    },
    {
      "metadata": {
        "id": "f91slfrAEzsD",
        "colab_type": "text"
      },
      "cell_type": "markdown",
      "source": [
        "# Helper Functions for Building Dataset\n",
        "\n",
        "Thanks to Tensorflow team for providing the tutorial [Load images with tf.data](https://www.tensorflow.org/alpha/tutorials/load_data/images#build_a_tfdatadataset). We follow the same tutorial to develop an image data pipeline. Below are some helper funcations to developed dataset.\n",
        "\n",
        "- **fetch_images_path** : we use this function to get all images path in the data directory. In our code it pick all the files (excluded directories) in the data directory, so please make sure you have only images in the data directory, otherwise add filter in the regular expression.\n",
        "\n",
        "- **get_labels** : This functions gives you the label names and indecies of the those label. We use index '0' for diseased image and '1' for healthy image.\n",
        "\n",
        "- **generate_images_labels** : The functions is responsible to generate lable for each image path, so this functions gives you the target label for each image.\n",
        "\n",
        "- **build_dataset** : This is the main function that takes images path and corresponding labels and return the data set zipped with images and labels. The function use load_images function to load the files.\n",
        "\n",
        "- **load_images** : We use this function to load all images, resize it into 160 x 160 size and convert each value of the image between 0-1. "
      ]
    },
    {
      "metadata": {
        "id": "L840W91LFW7Q",
        "colab_type": "code",
        "colab": {}
      },
      "cell_type": "code",
      "source": [
        "def fetch_images_path(data_dir):\n",
        "  images_path = list(data_dir.glob('*/**/*'));\n",
        "  images_path = [str(path) for path in images_path];\n",
        "  random.shuffle(images_path);\n",
        "  return images_path;\n",
        "\n",
        "def get_labels(data_dir):\n",
        "  label_names = sorted(item.name for item in data_dir.glob('*/') if item.is_dir());\n",
        "  label_index = dict((name, index) for index,name in enumerate(label_names));\n",
        "  return label_names, label_index;\n",
        "\n",
        "def generate_images_labels(images_path, label_index):\n",
        "  images_labels = [label_index[pathlib.Path(path).parent.name]\n",
        "                    for path in images_path];\n",
        "  return images_labels;\n",
        "\n",
        "def build_dataset(images_path, images_label):\n",
        "  path_ds = tf.data.Dataset.from_tensor_slices(images_path);\n",
        "  image_ds = path_ds.map(load_images, num_parallel_calls=tf.data.experimental.AUTOTUNE);\n",
        "  label_ds = tf.data.Dataset.from_tensor_slices(tf.cast(images_label, tf.int64));\n",
        "  image_label_ds = tf.data.Dataset.zip((image_ds, label_ds));\n",
        "  return image_label_ds;\n",
        "\n",
        "def load_images(path):\n",
        "  image = tf.io.read_file(path);\n",
        "  image = tf.image.decode_jpeg(image, channels=3);\n",
        "  image = tf.image.resize(image, [160, 160]);\n",
        "  image /= 255.0;\n",
        "  return image;\n"
      ],
      "execution_count": 0,
      "outputs": []
    },
    {
      "metadata": {
        "id": "HPrOIoJBIASg",
        "colab_type": "text"
      },
      "cell_type": "markdown",
      "source": [
        "# Load Images Path and Get Label Indices\n",
        "\n",
        "- Using fetch_images_path function we first load all images path\n",
        "\n",
        "- We then use get_labels functions to get the unique set of label name and a dictory to have target index against each label"
      ]
    },
    {
      "metadata": {
        "id": "SiER-mM0dQ4V",
        "colab_type": "code",
        "outputId": "d70a7892-f6a5-4a61-c90a-47ce293dfe89",
        "colab": {
          "base_uri": "https://localhost:8080/",
          "height": 85
        }
      },
      "cell_type": "code",
      "source": [
        "\n",
        "data_root = pathlib.Path(plant_data)\n",
        "print(data_root);\n",
        "\n",
        "images_path = fetch_images_path(data_root);\n",
        "\n",
        "label_name, label_index = get_labels(data_root);\n",
        "\n",
        "print(len(images_path));\n",
        "\n",
        "print(label_name);\n",
        "print(label_index);"
      ],
      "execution_count": 12,
      "outputs": [
        {
          "output_type": "stream",
          "text": [
            "/content/gdrive/My Drive/Refined_Data/plant_data\n",
            "3374\n",
            "['diseased_data', 'healthy_data']\n",
            "{'diseased_data': 0, 'healthy_data': 1}\n"
          ],
          "name": "stdout"
        }
      ]
    },
    {
      "metadata": {
        "id": "gy2LVJ44JZ44",
        "colab_type": "text"
      },
      "cell_type": "markdown",
      "source": [
        "# Split Images path in Training, Validation and Test\n",
        "\n",
        "- In our work we use 75% data for training, 15% for validation and 10% for testing of the model.\n",
        "\n",
        "- In below section we first calculate size of training, validation and testing data accorading to the percentage of 75, 15 and 10 respectively. \n",
        "\n",
        "- Once all sizes are calculated we sliced the images path accordingly to the size of training, validation and testing. We first assign testing data, then validation data and remaining data is assigned for training.\n",
        "\n",
        "- please note after fetching all images path we shuffle the data so we have random images path thus assigning static slicing to test, validation and training is not an issue here."
      ]
    },
    {
      "metadata": {
        "id": "OgN-fa14pKdF",
        "colab_type": "code",
        "outputId": "0e71e526-3c85-4cda-93c7-097581d121b6",
        "colab": {
          "base_uri": "https://localhost:8080/",
          "height": 85
        }
      },
      "cell_type": "code",
      "source": [
        "total_images = len(images_path);\n",
        "test_size = tf.cast(tf.math.ceil(total_images * 0.05), tf.int32).numpy();\n",
        "valid_size = tf.cast(tf.math.ceil(total_images * 0.15), tf.int32).numpy();\n",
        "train_size = total_images - test_size - valid_size;\n",
        "\n",
        "print(train_size, valid_size, test_size);\n",
        "\n",
        "test_images_path = images_path[:test_size];\n",
        "valid_images_path = images_path[test_size:test_size+valid_size];\n",
        "train_images_path = images_path[test_size+valid_size:];\n",
        "\n",
        "print(\"Test data size : \", len(test_images_path));\n",
        "print(\"Train data size : \", len(train_images_path));\n",
        "print(\"Train data size : \", len(valid_images_path));\n"
      ],
      "execution_count": 11,
      "outputs": [
        {
          "output_type": "stream",
          "text": [
            "2698 507 169\n",
            "Test data size :  169\n",
            "Train data size :  2698\n",
            "Train data size :  507\n"
          ],
          "name": "stdout"
        }
      ]
    },
    {
      "metadata": {
        "id": "GihoTWeENi7q",
        "colab_type": "text"
      },
      "cell_type": "markdown",
      "source": [
        "# Validate Data Distribution\n",
        "\n",
        "- We have used static slicing for testing, validation and training data, also the data is imbalance in such a way that we have more diseased images compare to healthy images. \n",
        "\n",
        "- In below section we check the data distribution of each set after static slicing (training, validation and testing), you can find below that even after static slicing the data is properly distributed for test, validation and train."
      ]
    },
    {
      "metadata": {
        "id": "H3i3Ssntszh4",
        "colab_type": "code",
        "colab": {
          "base_uri": "https://localhost:8080/",
          "height": 68
        },
        "outputId": "c9d9cca2-daa3-4ad0-c5ef-31bd03e69cca"
      },
      "cell_type": "code",
      "source": [
        "def data_dist(images_path):\n",
        "  hl_count = 0;\n",
        "  ds_count = 0;\n",
        "  for y in images_path:\n",
        "    if pathlib.Path(y).parent.name == 'healthy_data':\n",
        "      hl_count = hl_count + 1;\n",
        "    else:\n",
        "      ds_count = ds_count + 1;\n",
        "  return hl_count, ds_count;\n",
        "\n",
        "print(\"Test Data Dist : \", data_dist(test_images_path))\n",
        "print(\"Valid Data Dist : \", data_dist(valid_images_path))\n",
        "print(\"Train Data Dist : \", data_dist(train_images_path))"
      ],
      "execution_count": 13,
      "outputs": [
        {
          "output_type": "stream",
          "text": [
            "Test Data Dist :  (83, 86)\n",
            "Valid Data Dist :  (217, 290)\n",
            "Train Data Dist :  (1131, 1567)\n"
          ],
          "name": "stdout"
        }
      ]
    },
    {
      "metadata": {
        "id": "TC4qZ3SXb4nh",
        "colab_type": "text"
      },
      "cell_type": "markdown",
      "source": [
        "# Build Dataset\n",
        "\n",
        "- Once images path are divided into train, validation and testing set we need to create data api for all 3 sets.\n",
        "\n",
        "- First we need to identify the label for each image path assigned to each set (training, validation and testing), for that we will use generate_images_labels function.\n",
        "\n",
        "- Once we have images path and corresponding label we can zip it into dataset and create dataset for training, validation and testing. build_dataset function is used for that purpose which take images path and labels to create dataset."
      ]
    },
    {
      "metadata": {
        "id": "zkY-y4GtwiEg",
        "colab_type": "code",
        "colab": {
          "base_uri": "https://localhost:8080/",
          "height": 68
        },
        "outputId": "83f4fccb-962e-493e-b18c-f0ccf87cb2db"
      },
      "cell_type": "code",
      "source": [
        "test_labels = generate_images_labels(test_images_path,label_index);\n",
        "valid_labels = generate_images_labels(valid_images_path,label_index);\n",
        "train_labels = generate_images_labels(train_images_path,label_index);\n",
        "\n",
        "test_dataset = build_dataset(test_images_path,test_labels);\n",
        "valid_dataset = build_dataset(valid_images_path,valid_labels);\n",
        "train_dataset = build_dataset(train_images_path,train_labels);\n",
        "\n",
        "print(test_dataset);\n",
        "print(valid_dataset);\n",
        "print(train_dataset);\n"
      ],
      "execution_count": 14,
      "outputs": [
        {
          "output_type": "stream",
          "text": [
            "<ZipDataset shapes: ((160, 160, 3), ()), types: (tf.float32, tf.int64)>\n",
            "<ZipDataset shapes: ((160, 160, 3), ()), types: (tf.float32, tf.int64)>\n",
            "<ZipDataset shapes: ((160, 160, 3), ()), types: (tf.float32, tf.int64)>\n"
          ],
          "name": "stdout"
        }
      ]
    },
    {
      "metadata": {
        "id": "oezxUo6Uhjj7",
        "colab_type": "text"
      },
      "cell_type": "markdown",
      "source": [
        "# Configure Train, Validation and Test Dataset\n",
        "\n",
        "- Once all three dataset is created we need to configure it so that data can be feed into a model.\n",
        "\n",
        "- For training dataset, we first configure it to use cache so that it reduce the disk hit for loading the data, we also configure it to use shuffle and repeat so that each batch of the training data will have evenly distributed data. After that we provided the batch size for training so that data is feeded to the model in batches and computed the number of steps required to fully feed that training data in single epoch.\n",
        "\n",
        "- For validation data, we use cache similarly to training data, but we don't need to use shuffle and repeat because in each batch we would like to have unique images. We set the batch size of validation data and computed the number of steps required to validate all validation data.\n",
        "\n",
        "- For test data we provided similarly configuration that we have for validation data except that we set batch size of 1 so that each images is tested only once.\n"
      ]
    },
    {
      "metadata": {
        "id": "XVtuDdHUZ4-m",
        "colab_type": "code",
        "outputId": "ff29cabd-d974-42e4-b609-bed9c3715b77",
        "colab": {
          "base_uri": "https://localhost:8080/",
          "height": 68
        }
      },
      "cell_type": "code",
      "source": [
        "train_ds = train_dataset.cache();\n",
        "train_ds = train_ds.apply(tf.data.experimental.shuffle_and_repeat(buffer_size=len(train_images_path)));\n",
        "train_ds = train_ds.batch(train_batch_size).prefetch(buffer_size=AUTOTUNE);\n",
        "\n",
        "train_steps=tf.math.ceil(len(train_images_path)/train_batch_size).numpy()\n",
        "print(train_steps);\n",
        "\n",
        "valid_ds = valid_dataset.cache();\n",
        "valid_ds = valid_ds.batch(valid_batch_size);\n",
        "valid_ds = valid_ds.prefetch(buffer_size=AUTOTUNE);\n",
        "\n",
        "valid_steps=tf.math.ceil(len(valid_images_path)/valid_batch_size).numpy()\n",
        "print(valid_steps);\n",
        "\n",
        "test_ds = test_dataset.cache();\n",
        "test_ds = test_ds.batch(test_batch_size);\n",
        "test_ds = test_ds.prefetch(buffer_size=AUTOTUNE);\n",
        "\n",
        "test_steps=tf.math.ceil(len(test_images_path)/test_batch_size).numpy()\n",
        "print(test_steps);"
      ],
      "execution_count": 17,
      "outputs": [
        {
          "output_type": "stream",
          "text": [
            "43.0\n",
            "16.0\n",
            "169.0\n"
          ],
          "name": "stdout"
        }
      ]
    },
    {
      "metadata": {
        "id": "Kscd78VQc3Q1",
        "colab_type": "text"
      },
      "cell_type": "markdown",
      "source": [
        "# Helper Function for Plotting\n",
        "\n",
        "- We used matplotlib library for plotting the graphs. in below section we created helper functions to plot loss and accuracy of both train and validation data.\n",
        "\n",
        "- **plotaccuracy** : plotaccuracy function take history of the model and show the accuracy acheive on both training and validation data. The blue color graph represent the accuracy of training data and red graph represent the accuracy on validation data.\n",
        "\n",
        "- **plotloss** : plotloss function take history of the model and show the loss acheive on both training and validation data. The blue color graph represent the loss of training data and red graph represent the loss on validation data.\n",
        "\n"
      ]
    },
    {
      "metadata": {
        "id": "XwSmXT3HWc7y",
        "colab_type": "code",
        "colab": {}
      },
      "cell_type": "code",
      "source": [
        "def plotaccuracy(history):\n",
        "  train_acc = history['accuracy'];\n",
        "  val_acc = history['val_accuracy'];\n",
        "\n",
        "  epochs = range(1,len(train_acc)+1);\n",
        "\n",
        "  plt.plot(epochs,train_acc,'b', label=\"Training Accuracy\");\n",
        "  plt.plot(epochs,val_acc,'r', label=\"Validation Accuracy\");\n",
        "  plt.title(\"Training Validation Accuracy\");\n",
        "  plt.legend();\n",
        "  plt.show();\n",
        "  \n",
        "def plotloss(history):\n",
        "  train_loss = history['loss'];\n",
        "  val_loss = history['val_loss'];\n",
        "\n",
        "  epochs = range(1,len(train_loss)+1);\n",
        "\n",
        "  plt.plot(epochs,train_loss,'b', label=\"Training Loss\");\n",
        "  plt.plot(epochs,val_loss,'r', label=\"Validation Loss\");\n",
        "  plt.title(\"Training Validation Loss\");\n",
        "  plt.legend();\n",
        "  plt.show();\n",
        "  return;"
      ],
      "execution_count": 0,
      "outputs": []
    },
    {
      "metadata": {
        "id": "nBDWlZK-eAX6",
        "colab_type": "text"
      },
      "cell_type": "markdown",
      "source": [
        "# Model Design and Training\n",
        "\n",
        "- In our work we used pretained VGG16 model with fine tuning on last two convolutional layer.\n",
        "\n",
        "- in below section we defined a function which take training data, validation data, path on which model will be saved, training steps require per epoch and validation steps require per epoch.\n",
        "\n",
        "- We first set the `conv_base` non trainable so that we only trained the parameters of Dense layer (Top layer). We used two Dense of 512 unit with `relu` as activation function and a dropout of 50% between both Dense layer. We use `sigmoid` function on output layer\n",
        "\n",
        "-  Model is compiled on Adam optimizer with learning rate `0.0001` and `binary_crossentropy` loss function.\n",
        "\n",
        "- In callback functions we use EarlySopping with patience 10 and ReduceRL to redeuce the learning rate by factor of 0.2 if now further validation loss is seen. We use ModelCheckpoint to save only best model.\n",
        "\n",
        "- The model is trained on training data with validation date for 100 epoch, as we used early stopping so if there is no decrease in validation loss for 10 epochs the training will be stopped.\n",
        "\n",
        "- Once newly added Dense layers weights are updated/trained, we update the `conv_base` for last two layers to be trainable. \n",
        "\n",
        "- Now model is retrained with new configurationa and adjusts the weights of last two convolutional layers and Dense layers.\n",
        "\n",
        "- We plotted the graph of both accuracy and loss after both setups.\n",
        "\n",
        "- All of above steps in coupled into train_vgg16_model function, which is called at the end of the below section. It cause the training of the model"
      ]
    },
    {
      "metadata": {
        "id": "puWzTxTX2t-J",
        "colab_type": "code",
        "outputId": "5432b97b-a21a-4da5-86ff-78850443ba0b",
        "colab": {
          "base_uri": "https://localhost:8080/",
          "height": 3099
        }
      },
      "cell_type": "code",
      "source": [
        "def train_vgg16_model(train_dataset, valid_dataset, model_path, train_steps, valid_steps):\n",
        "  conv_base = tf.keras.applications.VGG16(weights='imagenet',include_top=False,input_shape=(160, 160, 3));\n",
        "  conv_base.trainable = False;\n",
        "  model = tf.keras.Sequential()\n",
        "  model.add(conv_base)\n",
        "  model.add(tf.keras.layers.Flatten())\n",
        "  model.add(tf.keras.layers.Dense(512, activation='relu'))\n",
        "  model.add(tf.keras.layers.Dropout(0.5))\n",
        "  model.add(tf.keras.layers.Dense(512, activation='relu'))\n",
        "  model.add(tf.keras.layers.Dense(1, activation='sigmoid'));\n",
        "\n",
        "  model.compile(optimizer=tf.keras.optimizers.Adam(lr=1e-4),loss='binary_crossentropy',metrics=['accuracy']);\n",
        "\n",
        "  earlystop = tf.keras.callbacks.EarlyStopping(patience=10);\n",
        "  reduce_lr = tf.keras.callbacks.ReduceLROnPlateau(monitor='val_loss', factor=0.2,patience=5, min_lr=0.000001);\n",
        "  modelsave = tf.keras.callbacks.ModelCheckpoint(filepath=model_path, save_best_only=True, verbose=1)\n",
        "\n",
        "  model.fit_generator(train_dataset, steps_per_epoch=train_steps, epochs=100, validation_steps=valid_steps,\n",
        "                          validation_data=valid_dataset,callbacks=[earlystop, modelsave, reduce_lr]);\n",
        "  \n",
        "  history = model.history.history;\n",
        "\n",
        "  plotaccuracy(history);\n",
        "  plotloss(history);\n",
        "  \n",
        "  conv_base.trainable = True;\n",
        "  set_trainable = False\n",
        "  for layer in conv_base.layers:\n",
        "    if layer.name == 'block4_conv1':\n",
        "        set_trainable = True\n",
        "    if set_trainable:\n",
        "        layer.trainable = True\n",
        "    else:\n",
        "        layer.trainable = False\n",
        "  \n",
        "  model.compile(optimizer=tf.keras.optimizers.Adam(lr=1e-4),loss='binary_crossentropy',metrics=['accuracy']);\n",
        "  reduce_lr = tf.keras.callbacks.ReduceLROnPlateau(monitor='val_loss', factor=0.2, patience=5, min_lr=0.0000001);\n",
        "  \n",
        "  model.fit_generator(train_dataset, steps_per_epoch=train_steps, epochs=100, validation_steps=valid_steps,\n",
        "                          validation_data=valid_dataset,callbacks=[earlystop, modelsave, reduce_lr]);\n",
        "  \n",
        "  history = model.history.history;\n",
        "\n",
        "  plotaccuracy(history);\n",
        "  plotloss(history);\n",
        "  return model;\n",
        "\n",
        "model_name = os.path.join(model_loc,'pc_tf_fine_160_final.h5');\n",
        "model_vgg16 = train_vgg16_model(train_ds,valid_ds,model_name,train_steps,valid_steps);\n"
      ],
      "execution_count": 19,
      "outputs": [
        {
          "output_type": "stream",
          "text": [
            "Downloading data from https://github.com/fchollet/deep-learning-models/releases/download/v0.1/vgg16_weights_tf_dim_ordering_tf_kernels_notop.h5\n",
            "58892288/58889256 [==============================] - 1s 0us/step\n",
            "Epoch 1/100\n",
            "42/43 [============================>.] - ETA: 9s - loss: 0.5088 - accuracy: 0.7459 \n",
            "Epoch 00001: val_loss improved from inf to 0.43181, saving model to /content/gdrive/My Drive/Refined_Data/saved_model/pc_tf_fine_160_final.h5\n",
            "43/43 [==============================] - 468s 11s/step - loss: 0.5058 - accuracy: 0.7478 - val_loss: 0.4318 - val_accuracy: 0.8107\n",
            "Epoch 2/100\n",
            "42/43 [============================>.] - ETA: 0s - loss: 0.3862 - accuracy: 0.8218\n",
            "Epoch 00002: val_loss did not improve from 0.43181\n",
            "43/43 [==============================] - 12s 289ms/step - loss: 0.3842 - accuracy: 0.8223 - val_loss: 0.4465 - val_accuracy: 0.8107\n",
            "Epoch 3/100\n",
            "42/43 [============================>.] - ETA: 0s - loss: 0.3395 - accuracy: 0.8508\n",
            "Epoch 00003: val_loss improved from 0.43181 to 0.39060, saving model to /content/gdrive/My Drive/Refined_Data/saved_model/pc_tf_fine_160_final.h5\n",
            "43/43 [==============================] - 15s 348ms/step - loss: 0.3388 - accuracy: 0.8507 - val_loss: 0.3906 - val_accuracy: 0.8264\n",
            "Epoch 4/100\n",
            "42/43 [============================>.] - ETA: 0s - loss: 0.2888 - accuracy: 0.8769\n",
            "Epoch 00004: val_loss did not improve from 0.39060\n",
            "43/43 [==============================] - 12s 288ms/step - loss: 0.2883 - accuracy: 0.8775 - val_loss: 0.4958 - val_accuracy: 0.8028\n",
            "Epoch 5/100\n",
            "42/43 [============================>.] - ETA: 0s - loss: 0.2418 - accuracy: 0.9044\n",
            "Epoch 00005: val_loss improved from 0.39060 to 0.38052, saving model to /content/gdrive/My Drive/Refined_Data/saved_model/pc_tf_fine_160_final.h5\n",
            "43/43 [==============================] - 14s 319ms/step - loss: 0.2417 - accuracy: 0.9044 - val_loss: 0.3805 - val_accuracy: 0.8363\n",
            "Epoch 6/100\n",
            "42/43 [============================>.] - ETA: 0s - loss: 0.2141 - accuracy: 0.9156\n",
            "Epoch 00006: val_loss improved from 0.38052 to 0.37723, saving model to /content/gdrive/My Drive/Refined_Data/saved_model/pc_tf_fine_160_final.h5\n",
            "43/43 [==============================] - 13s 304ms/step - loss: 0.2125 - accuracy: 0.9164 - val_loss: 0.3772 - val_accuracy: 0.8363\n",
            "Epoch 7/100\n",
            "42/43 [============================>.] - ETA: 0s - loss: 0.1889 - accuracy: 0.9278\n",
            "Epoch 00007: val_loss did not improve from 0.37723\n",
            "43/43 [==============================] - 12s 290ms/step - loss: 0.1876 - accuracy: 0.9284 - val_loss: 0.4074 - val_accuracy: 0.8323\n",
            "Epoch 8/100\n",
            "42/43 [============================>.] - ETA: 0s - loss: 0.1532 - accuracy: 0.9472\n",
            "Epoch 00008: val_loss did not improve from 0.37723\n",
            "43/43 [==============================] - 12s 286ms/step - loss: 0.1535 - accuracy: 0.9473 - val_loss: 0.4073 - val_accuracy: 0.8304\n",
            "Epoch 9/100\n",
            "42/43 [============================>.] - ETA: 0s - loss: 0.1421 - accuracy: 0.9494\n",
            "Epoch 00009: val_loss did not improve from 0.37723\n",
            "43/43 [==============================] - 13s 306ms/step - loss: 0.1420 - accuracy: 0.9491 - val_loss: 0.3895 - val_accuracy: 0.8501\n",
            "Epoch 10/100\n",
            "42/43 [============================>.] - ETA: 0s - loss: 0.1064 - accuracy: 0.9654\n",
            "Epoch 00010: val_loss did not improve from 0.37723\n",
            "43/43 [==============================] - 12s 287ms/step - loss: 0.1061 - accuracy: 0.9648 - val_loss: 0.5211 - val_accuracy: 0.8264\n",
            "Epoch 11/100\n",
            "42/43 [============================>.] - ETA: 0s - loss: 0.0950 - accuracy: 0.9691\n",
            "Epoch 00011: val_loss did not improve from 0.37723\n",
            "43/43 [==============================] - 12s 287ms/step - loss: 0.0947 - accuracy: 0.9695 - val_loss: 0.4290 - val_accuracy: 0.8481\n",
            "Epoch 12/100\n",
            "42/43 [============================>.] - ETA: 0s - loss: 0.0794 - accuracy: 0.9758\n",
            "Epoch 00012: val_loss did not improve from 0.37723\n",
            "43/43 [==============================] - 12s 287ms/step - loss: 0.0798 - accuracy: 0.9746 - val_loss: 0.4599 - val_accuracy: 0.8442\n",
            "Epoch 13/100\n",
            "42/43 [============================>.] - ETA: 0s - loss: 0.0632 - accuracy: 0.9825\n",
            "Epoch 00013: val_loss did not improve from 0.37723\n",
            "43/43 [==============================] - 12s 288ms/step - loss: 0.0630 - accuracy: 0.9826 - val_loss: 0.4461 - val_accuracy: 0.8462\n",
            "Epoch 14/100\n",
            "42/43 [============================>.] - ETA: 0s - loss: 0.0590 - accuracy: 0.9855\n",
            "Epoch 00014: val_loss did not improve from 0.37723\n",
            "43/43 [==============================] - 12s 289ms/step - loss: 0.0594 - accuracy: 0.9855 - val_loss: 0.4840 - val_accuracy: 0.8422\n",
            "Epoch 15/100\n",
            "42/43 [============================>.] - ETA: 0s - loss: 0.0506 - accuracy: 0.9900\n",
            "Epoch 00015: val_loss did not improve from 0.37723\n",
            "43/43 [==============================] - 13s 300ms/step - loss: 0.0501 - accuracy: 0.9902 - val_loss: 0.4638 - val_accuracy: 0.8442\n",
            "Epoch 16/100\n",
            "42/43 [============================>.] - ETA: 0s - loss: 0.0507 - accuracy: 0.9888\n",
            "Epoch 00016: val_loss did not improve from 0.37723\n",
            "43/43 [==============================] - 12s 289ms/step - loss: 0.0504 - accuracy: 0.9891 - val_loss: 0.4822 - val_accuracy: 0.8442\n"
          ],
          "name": "stdout"
        },
        {
          "output_type": "display_data",
          "data": {
            "image/png": "[encoded data removed]",
            "text/plain": [
              "<Figure size 432x288 with 1 Axes>"
            ]
          },
          "metadata": {
            "tags": []
          }
        },
        {
          "output_type": "display_data",
          "data": {
            "image/png": "[encoded data removed]",
            "text/plain": [
              "<Figure size 432x288 with 1 Axes>"
            ]
          },
          "metadata": {
            "tags": []
          }
        },
        {
          "output_type": "stream",
          "text": [
            "Epoch 1/100\n",
            "42/43 [============================>.] - ETA: 0s - loss: 0.6413 - accuracy: 0.7541\n",
            "Epoch 00001: val_loss did not improve from 0.37723\n",
            "43/43 [==============================] - 44s 1s/step - loss: 0.6337 - accuracy: 0.7573 - val_loss: 0.4606 - val_accuracy: 0.7850\n",
            "Epoch 2/100\n",
            "42/43 [============================>.] - ETA: 0s - loss: 0.3628 - accuracy: 0.8341\n",
            "Epoch 00002: val_loss improved from 0.37723 to 0.33053, saving model to /content/gdrive/My Drive/Refined_Data/saved_model/pc_tf_fine_160_final.h5\n",
            "43/43 [==============================] - 18s 414ms/step - loss: 0.3604 - accuracy: 0.8358 - val_loss: 0.3305 - val_accuracy: 0.8343\n",
            "Epoch 3/100\n",
            "42/43 [============================>.] - ETA: 0s - loss: 0.2913 - accuracy: 0.8746\n",
            "Epoch 00003: val_loss improved from 0.33053 to 0.29799, saving model to /content/gdrive/My Drive/Refined_Data/saved_model/pc_tf_fine_160_final.h5\n",
            "43/43 [==============================] - 21s 477ms/step - loss: 0.2888 - accuracy: 0.8765 - val_loss: 0.2980 - val_accuracy: 0.8698\n",
            "Epoch 4/100\n",
            "42/43 [============================>.] - ETA: 0s - loss: 0.2299 - accuracy: 0.8977\n",
            "Epoch 00004: val_loss did not improve from 0.29799\n",
            "43/43 [==============================] - 16s 381ms/step - loss: 0.2295 - accuracy: 0.8968 - val_loss: 0.3079 - val_accuracy: 0.8718\n",
            "Epoch 5/100\n",
            "42/43 [============================>.] - ETA: 0s - loss: 0.1675 - accuracy: 0.9278\n",
            "Epoch 00005: val_loss did not improve from 0.29799\n",
            "43/43 [==============================] - 16s 378ms/step - loss: 0.1671 - accuracy: 0.9281 - val_loss: 0.3483 - val_accuracy: 0.8757\n",
            "Epoch 6/100\n",
            "42/43 [============================>.] - ETA: 0s - loss: 0.1112 - accuracy: 0.9572\n",
            "Epoch 00006: val_loss did not improve from 0.29799\n",
            "43/43 [==============================] - 16s 381ms/step - loss: 0.1104 - accuracy: 0.9575 - val_loss: 0.4847 - val_accuracy: 0.8619\n",
            "Epoch 7/100\n",
            "42/43 [============================>.] - ETA: 0s - loss: 0.0964 - accuracy: 0.9635\n",
            "Epoch 00007: val_loss did not improve from 0.29799\n",
            "43/43 [==============================] - 17s 396ms/step - loss: 0.0950 - accuracy: 0.9640 - val_loss: 0.5350 - val_accuracy: 0.8777\n",
            "Epoch 8/100\n",
            "42/43 [============================>.] - ETA: 0s - loss: 0.0845 - accuracy: 0.9691\n",
            "Epoch 00008: val_loss did not improve from 0.29799\n",
            "43/43 [==============================] - 16s 373ms/step - loss: 0.0843 - accuracy: 0.9691 - val_loss: 0.4267 - val_accuracy: 0.8698\n",
            "Epoch 9/100\n",
            "42/43 [============================>.] - ETA: 0s - loss: 0.0284 - accuracy: 0.9907\n",
            "Epoch 00009: val_loss did not improve from 0.29799\n",
            "43/43 [==============================] - 16s 375ms/step - loss: 0.0281 - accuracy: 0.9909 - val_loss: 0.4670 - val_accuracy: 0.8856\n",
            "Epoch 10/100\n",
            "42/43 [============================>.] - ETA: 0s - loss: 0.0169 - accuracy: 0.9948\n",
            "Epoch 00010: val_loss did not improve from 0.29799\n",
            "43/43 [==============================] - 16s 379ms/step - loss: 0.0167 - accuracy: 0.9949 - val_loss: 0.4783 - val_accuracy: 0.8915\n",
            "Epoch 11/100\n",
            "42/43 [============================>.] - ETA: 0s - loss: 0.0116 - accuracy: 0.9959\n",
            "Epoch 00011: val_loss did not improve from 0.29799\n",
            "43/43 [==============================] - 16s 377ms/step - loss: 0.0114 - accuracy: 0.9960 - val_loss: 0.4486 - val_accuracy: 0.8915\n",
            "Epoch 12/100\n",
            "42/43 [============================>.] - ETA: 0s - loss: 0.0101 - accuracy: 0.9963\n",
            "Epoch 00012: val_loss did not improve from 0.29799\n",
            "43/43 [==============================] - 17s 391ms/step - loss: 0.0111 - accuracy: 0.9960 - val_loss: 0.4830 - val_accuracy: 0.8935\n",
            "Epoch 13/100\n",
            "42/43 [============================>.] - ETA: 0s - loss: 0.0100 - accuracy: 0.9959\n",
            "Epoch 00013: val_loss did not improve from 0.29799\n",
            "43/43 [==============================] - 16s 374ms/step - loss: 0.0098 - accuracy: 0.9960 - val_loss: 0.4953 - val_accuracy: 0.8876\n"
          ],
          "name": "stdout"
        },
        {
          "output_type": "display_data",
          "data": {
            "image/png": "[encoded data removed]",
            "text/plain": [
              "<Figure size 432x288 with 1 Axes>"
            ]
          },
          "metadata": {
            "tags": []
          }
        },
        {
          "output_type": "display_data",
          "data": {
            "image/png": "[encoded data removed]",
            "text/plain": [
              "<Figure size 432x288 with 1 Axes>"
            ]
          },
          "metadata": {
            "tags": []
          }
        }
      ]
    },
    {
      "metadata": {
        "id": "ApODJfaAlcTL",
        "colab_type": "text"
      },
      "cell_type": "markdown",
      "source": [
        "# Test Data Accuracy and Report\n",
        "\n",
        "- Once model is trained and saved, we used the model to test the performance of the model on unseen data (test data).\n",
        "\n",
        "- We first evaludate the test data to have loss and accracy on test data. \n",
        "\n",
        "- As we know that data is imbalance we have more images of diseased type than healthy type so accuracy may not seems best representative of model performance. We need a report which gives us precision, recall and F1 score.\n",
        "\n",
        "- To get a report we first predict the probabilty against each test sample using predict function of the model, and then convert each probability into its respective class/type/target.\n",
        "\n",
        "- once we have predicted class, we use sklearn classification_report function to generate a report by using true class and predicted class.\n",
        "\n",
        "- The classification report is a better measurement to test the performance of a model as compare to accuracy. "
      ]
    },
    {
      "metadata": {
        "id": "3RobwfGHQuiq",
        "colab_type": "code",
        "outputId": "ea6b4be6-1113-4b08-c015-dc3664bd044c",
        "colab": {
          "base_uri": "https://localhost:8080/",
          "height": 238
        }
      },
      "cell_type": "code",
      "source": [
        "print(model_vgg16.evaluate_generator(test_ds,steps=test_steps));\n",
        "\n",
        "predictions = model_vgg16.predict_generator(test_ds, steps=test_steps,verbose=1);\n",
        "\n",
        "predicted_classes = [];\n",
        "for i in predictions:\n",
        "  if i >= 0.5:\n",
        "    predicted_classes.append(1)\n",
        "  else:\n",
        "    predicted_classes.append(0);\n",
        "    \n",
        "\n",
        "report = classification_report(test_labels, predicted_classes, target_names=label_name)\n",
        "print(report)\n",
        "\n",
        "conf_matrix = confusion_matrix(y_true=test_labels, y_pred=predicted_classes)\n",
        "print(conf_matrix)"
      ],
      "execution_count": 22,
      "outputs": [
        {
          "output_type": "stream",
          "text": [
            "[0.3871324180851174, 0.9053255]\n",
            "169/169 [==============================] - 2s 13ms/step\n",
            "               precision    recall  f1-score   support\n",
            "\n",
            "diseased_data       0.93      0.88      0.90        86\n",
            " healthy_data       0.89      0.93      0.91        83\n",
            "\n",
            "    micro avg       0.91      0.91      0.91       169\n",
            "    macro avg       0.91      0.91      0.91       169\n",
            " weighted avg       0.91      0.91      0.91       169\n",
            "\n",
            "[[76 10]\n",
            " [ 6 77]]\n"
          ],
          "name": "stdout"
        }
      ]
    }
  ]
}